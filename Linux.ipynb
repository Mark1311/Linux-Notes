{
 "cells": [
  {
   "cell_type": "markdown",
   "id": "e92388fb-4ec7-4ca6-9d9c-59046948accd",
   "metadata": {},
   "source": [
    "# Linux"
   ]
  },
  {
   "cell_type": "markdown",
   "id": "1122e2b0-67c9-4628-b549-d86c447ff338",
   "metadata": {},
   "source": [
    "# ISP (Internet Service Provider)\n",
    "\n",
    "* ISP (Internet Service Provider) ek company ya organization hoti hai jo Internet ko access karne ki facility provide karti hai.\n",
    "* Jaise tum phone me data on karke Jio/Airtel se net chalate ho ya ghar pe Wi-Fi use karte ho, to vo sab ISP ke through possible hota hai.\n",
    "\n",
    "1. Internet Connection Provide karna\n",
    "\n",
    "    * Broadband, Fiber, DSL, 4G/5G data connection, Wi-Fi.\n",
    "\n",
    "2. IP Address dena\n",
    "\n",
    "    * Har device ko ek IP address chahiye hota hai net use karne ke liye. ISP ye assign karta hai.\n",
    "\n",
    "3. DNS Service\n",
    "\n",
    "    * Jab tum google.com likhte ho to actually vo ek IP address hota hai. ISP tumhare request ko DNS ke through convert karta hai.\n",
    "\n",
    "4. Data Transfer & Routing\n",
    "\n",
    "    * Tumhari request ko sahi server tak bhejna aur wapas response lana.\n",
    "\n",
    "5. Extra Services\n",
    "\n",
    "    * Email services, web hosting, VPN, cloud storage (kuch ISPs ye bhi dete hain)."
   ]
  },
  {
   "cell_type": "markdown",
   "id": "04375f20-a74a-49f1-83de-70397c80dc29",
   "metadata": {},
   "source": [
    "# Server\n",
    "\n",
    "* Server ek computer ya system hota hai jo network par dusre computers (clients) ko **services, resources, ya data** provide karta hai.  \n",
    "* Ye continuously active rehta hai taki clients kabhi bhi request bhej sake aur data access kar sake.  \n",
    "* Server aur client ka relationship **Client-Server Architecture** ke under kaam karta hai.\n",
    "\n",
    "1. **Services Provide karna**\n",
    "    * File sharing (documents, images, videos share karna)\n",
    "    * Web hosting (websites aur web applications host karna)\n",
    "    * Email services (send/receive emails)\n",
    "    * Database access (applications ke liye centralized data store)\n",
    "    * Print services, application services, etc.\n",
    "\n",
    "2. **Client-Server Model**\n",
    "    * Clients request bhejte hain (HTTP request, FTP request, database query, etc.)\n",
    "    * Server request ko process karta hai aur response return karta hai\n",
    "    * Ye model network me data management aur resource sharing easy banata hai\n",
    "\n",
    "3. **Types of Servers**\n",
    "    * **Web Server:** Websites aur web applications serve karta hai (Apache, Nginx)\n",
    "    * **File Server:** Centralized storage aur file sharing provide karta hai\n",
    "    * **Database Server:** Databases ko manage aur provide karta hai (MySQL, PostgreSQL)\n",
    "    * **Mail Server:** Emails send aur receive karta hai\n",
    "    * **Application Server:** Specific applications run aur provide karta hai\n",
    "    * **Proxy Server:** Network requests ko filter ya forward karta hai\n",
    "\n",
    "4. **Importance**\n",
    "    * Centralized data management se data consistency maintain hoti hai\n",
    "    * Security aur access control easy hota hai\n",
    "    * High availability aur reliability ke liye servers 24/7 active rehte hain\n",
    "    * Network me resources share karna efficient aur fast ho jata hai\n"
   ]
  },
  {
   "cell_type": "markdown",
   "id": "da11ecc9-9b6b-4fb6-94c9-4e9cb8775f87",
   "metadata": {},
   "source": [
    "# Web Server vs Application Server\n",
    "\n",
    "* Web Server aur Application Server dono network me client requests ko handle karte hain, lekin unka kaam aur scope alag hota hai.\n",
    "\n",
    "1. **Web Server**\n",
    "    * Primarily **HTTP requests** handle karta hai.\n",
    "    * Static content serve karta hai jaise HTML, CSS, JS files.\n",
    "    * Example: Apache, Nginx, Microsoft IIS\n",
    "    * Limited processing capabilities; dynamic content ke liye application server ya scripts (PHP, Python) ka use karta hai.\n",
    "\n",
    "2. **Application Server**\n",
    "    * Business logic aur dynamic content process karta hai.\n",
    "    * Web applications ke liye backend logic execute karta hai.\n",
    "    * Example: Tomcat, JBoss, WebLogic\n",
    "    * Web server se integrated ho sakta hai ya standalone work kar sakta hai.\n",
    "    * Database access, transactions, messaging, security jaise advanced services provide karta hai.\n",
    "\n"
   ]
  },
  {
   "cell_type": "markdown",
   "id": "721d4799-ed57-460a-9c9d-b753c9d47186",
   "metadata": {},
   "source": [
    "3. **Key Differences**\n",
    "    | Feature               | Web Server                        | Application Server                        |\n",
    "    |----------------------|----------------------------------|------------------------------------------|\n",
    "    | Content Type          | Static (HTML, CSS, JS)           | Dynamic (Business logic, APIs)           |\n",
    "    | Processing            | Basic request handling            | Complex processing & business logic      |\n",
    "    | Examples              | Apache, Nginx, IIS                | Tomcat, JBoss, WebLogic                   |\n",
    "    | Use Case              | Serve web pages                   | Run enterprise applications               |\n"
   ]
  },
  {
   "cell_type": "markdown",
   "id": "20b4c911-9a9a-4a7f-9ece-510c223d59c9",
   "metadata": {},
   "source": [
    "# Standalone Application vs Web Application\n",
    "\n",
    "* Applications do main types ki hoti hain: **Standalone Applications** aur **Web Applications**.  \n",
    "* Dono ka purpose similar ho sakta hai, lekin deployment, access aur resource management alag hota hai.\n",
    "\n",
    "1. **Standalone Application**\n",
    "    * Ye **directly user ke device par install** hoti hai aur wahan run karti hai.\n",
    "    * Internet ki zarurat normally nahi hoti (except updates ya online features ke liye).\n",
    "    * **Data aur resources** mostly local machine par store hote hain.\n",
    "    * Performance zyada fast hoti hai kyunki system ka local CPU, RAM aur storage use hota hai.\n",
    "    * Examples:\n",
    "        - VLC Media Player, MS Office, Photoshop, Calculator apps.\n",
    "    * Advantages:\n",
    "        - High performance\n",
    "        - Internet independent\n",
    "        - Security (data local hai)\n",
    "    * Disadvantages:\n",
    "        - Platform dependent (Windows app Windows par chalegi, Linux par nahi)\n",
    "        - Install karna padta hai\n",
    "        - Updates manually karne padte hain\n",
    "\n",
    "2. **Web Application**\n",
    "    * Ye **browser ke through** run hoti hai; install karna optional ya unnecessary hota hai.\n",
    "    * **Internet connection** required hota hai kyunki server-side resources use hote hain.\n",
    "    * **Data server par store** hoti hai, multiple users access kar sakte hain.\n",
    "    * Platform independent: Windows, Mac, Linux, Mobile — sab browser se access kar sakte hain.\n",
    "    * Examples:\n",
    "        - Gmail, Google Docs, Facebook, Twitter, Amazon website\n",
    "    * Advantages:\n",
    "        - No installation required\n",
    "        - Platform independent\n",
    "        - Centralized updates & maintenance\n",
    "        - Multiple users easily access kar sakte hain\n",
    "    * Disadvantages:\n",
    "        - Internet dependency\n",
    "        - Performance network speed par depend karta hai\n",
    "        - Security risk agar server compromise ho jaye\n"
   ]
  },
  {
   "cell_type": "markdown",
   "id": "8c728124-7a0e-4500-b01f-6514dba4ec77",
   "metadata": {},
   "source": [
    "3. **Key Differences**\n",
    "    | Feature              | Standalone Application               | Web Application                     |\n",
    "    |---------------------|------------------------------------|------------------------------------|\n",
    "    | Installation         | Required on local machine          | Not required                        |\n",
    "    | Internet Connection  | Not necessary                      | Required                             |\n",
    "    | Data Storage         | Local system                        | Server-side                          |\n",
    "    | Platform             | OS specific                        | Platform independent                |\n",
    "    | Accessibility        | Single machine                      | Any device with browser             |\n",
    "    | Performance          | High (local resources)             | Depends on network & server load    |\n",
    "    | Updates              | Manual or user-triggered           | Centralized & automatic             |\n"
   ]
  },
  {
   "cell_type": "markdown",
   "id": "5f5141cb-8bfc-4cfe-a2bf-4dce554cd2cd",
   "metadata": {},
   "source": [
    "# Linux, Windows, and Unix\n",
    "\n",
    "* Ye teeno **Operating Systems (OS)** hain jo computer hardware aur software ke beech interface provide karte hain.  \n",
    "* OS ka main kaam hota hai **resources manage karna, applications run karna aur user ko interface dena**.\n",
    "\n",
    "---\n",
    "\n",
    "## 1. Linux\n",
    "* Open-source operating system, Unix-like architecture par based.\n",
    "* Free to use aur modify kar sakte hain.\n",
    "* Mostly servers, development, networking, aur embedded systems me use hota hai.\n",
    "* Examples: Ubuntu, CentOS, Fedora, Debian.\n",
    "* Strong command-line interface (CLI) support aur security ke liye popular.\n",
    "\n",
    "## 2. Windows\n",
    "* Microsoft ka proprietary OS.\n",
    "* GUI (Graphical User Interface) strong, user-friendly.\n",
    "* Mostly personal computers aur business desktops me use hota hai.\n",
    "* Examples: Windows 10, Windows 11, Windows Server 2019.\n",
    "* Software support wide range me available, lekin open-source tools limited hote hain.\n",
    "\n",
    "## 3. Unix\n",
    "* One of the oldest OS, primarily command-line based.\n",
    "* Multiuser aur multitasking capabilities ke liye design kiya gaya.\n",
    "* Mostly servers aur mainframes me use hota hai.\n",
    "* Examples: AIX, HP-UX, Solaris.\n",
    "* High stability aur security ke liye known hai.\n",
    "\n",
    "---\n",
    "\n",
    "## Key Differences\n",
    "\n",
    "| Feature                | Linux                               | Windows                          | Unix                              |\n",
    "|------------------------|-----------------------------------|---------------------------------|---------------------------------|\n",
    "| Source Code            | Open-source                        | Proprietary                     | Mostly proprietary (some open)  |\n",
    "| Cost                   | Free                               | Paid                            | Paid/Commercial                  |\n",
    "| User Interface         | CLI + GUI                          | GUI dominant, CLI limited       | CLI dominant                     |\n",
    "| Security               | High                               | Moderate                        | Very High                        |\n",
    "| Platform               | Multi-platform (PC, Server, Mobile)| Mostly PC/Desktop               | Servers, Mainframes              |\n",
    "| Stability              | Very Stable                         | Moderate                        | Highly Stable                    |\n",
    "| Usage                  | Servers, development, networking   | Personal PC, business           | Servers, enterprise systems      |\n",
    "| Customization          | High (kernel modification possible)| Limited                         | Moderate                          |\n"
   ]
  },
  {
   "cell_type": "markdown",
   "id": "66ee4494-920f-4913-8fae-5f539e8c9581",
   "metadata": {},
   "source": [
    "# GPL (General Public License)\n",
    "\n",
    "* GPL ek **free software license** hai jo software ko use, modify aur distribute karne ka right deti hai.  \n",
    "* Ye license **free software movement** ke liye famous hai aur Richard Stallman ne GNU Project ke under develop kiya.\n",
    "\n",
    "---\n",
    "\n",
    "## Key Points\n",
    "1. **Freedom to Use**\n",
    "    * Software ko kisi bhi purpose ke liye use kar sakte ho.\n",
    "\n",
    "2. **Freedom to Study**\n",
    "    * Source code access karke samajh sakte ho ki software kaise kaam karta hai.\n",
    "\n",
    "3. **Freedom to Modify**\n",
    "    * Apni requirement ke hisaab se software modify kar sakte ho.\n",
    "\n",
    "4. **Freedom to Distribute**\n",
    "    * Original ya modified software ko freely distribute kar sakte ho.\n",
    "\n",
    "5. **Copyleft Concept**\n",
    "    * Agar tum GPL software ko modify karke distribute karte ho, to **modified version bhi GPL ke under hi release karna padega**.\n",
    "\n",
    "---\n",
    "\n",
    "## Examples of GPL Licensed Software\n",
    "* Linux Kernel\n",
    "* WordPress\n",
    "* GNU Compiler Collection (GCC)\n",
    "* GIMP (GNU Image Manipulation Program)\n",
    "\n",
    "---\n",
    "\n",
    "## Interview Short Answer\n",
    "\"GPL (General Public License) ek free software license hai jo software ko use, study, modify aur distribute karne ki freedom deta hai aur ensure karta hai ki modified software bhi same license ke under hi release ho.\"\n"
   ]
  },
  {
   "cell_type": "markdown",
   "id": "f4332be0-6320-49e0-90f2-dd01e7a1c2fd",
   "metadata": {},
   "source": [
    "# Kernel, Shell, and Bootloader\n",
    "\n",
    "* Ye teeno **Operating System ke core components** hain jo computer ke hardware aur software ke beech interface provide karte hain.\n",
    "\n",
    "---\n",
    "\n",
    "## 1. Kernel\n",
    "* Kernel OS ka **core part** hota hai jo hardware aur software ke beech bridge ka kaam karta hai.  \n",
    "* Ye **resource management, process scheduling, memory management, device drivers, aur system calls** handle karta hai.  \n",
    "* Types of Kernel:\n",
    "    - Monolithic Kernel (Linux)\n",
    "    - Microkernel (Minix, QNX)\n",
    "* Example: Linux kernel, Windows NT kernel\n",
    "\n",
    "---\n",
    "\n",
    "## 2. Shell\n",
    "* Shell ek **interface** hai jo user aur kernel ke beech command execution ka kaam karta hai.  \n",
    "* User commands ko accept karta hai aur kernel ko forward karta hai, fir output show karta hai.  \n",
    "* Types:\n",
    "    - Command Line Interface (CLI) Shell: Bash, sh, zsh\n",
    "    - Graphical Shell: Windows Explorer, GNOME, KDE\n",
    "* Example: Linux Bash Shell, Windows Command Prompt, PowerShell\n",
    "\n",
    "---\n",
    "\n",
    "## 3. Bootloader\n",
    "* Bootloader ek **program** hota hai jo computer start hone par pehle run hota hai aur OS ko load karta hai.  \n",
    "* Ye **hardware initialize karta hai** aur kernel ko memory me load karta hai.  \n",
    "* Example: GRUB (Linux), LILO, Windows Boot Manager\n",
    "\n",
    "---\n",
    "\n",
    "## Summary / Key Points\n",
    "\n",
    "| Component    | Role                                                                 |\n",
    "|-------------|----------------------------------------------------------------------|\n",
    "| Kernel      | Core of OS; manages hardware, memory, processes, drivers            |\n",
    "| Shell       | Interface between user and kernel; executes commands                |\n",
    "| Bootloader  | Loads OS kernel into memory during system startup                  |\n"
   ]
  },
  {
   "cell_type": "markdown",
   "id": "a69f20da-5b7e-464a-abd4-249fd4e3e5a0",
   "metadata": {},
   "source": [
    "# Linux Commands with Usage, Examples, and Flags\n",
    "\n",
    "---\n",
    "\n",
    "## date\n",
    "* Shows the current system date and time.\n",
    "* Common flags: `+%Y-%m-%d` : Format as Year-Month-Day\n",
    "* Example:\n",
    "```bash\n",
    "date\n",
    "date \"+%Y-%m-%d %H:%M:%S\"\n"
   ]
  },
  {
   "cell_type": "markdown",
   "id": "98e511dc-0ae7-4d52-aeb2-26032457b13d",
   "metadata": {},
   "source": [
    "## ls\n",
    "* Lists files and directories in current location.\n",
    "* Common flags: `-l` (long format), `-a` (show hidden files)\n",
    "* Example:\n",
    "```bash\n",
    "ls\n",
    "ls -l\n",
    "ls -a\n"
   ]
  },
  {
   "cell_type": "markdown",
   "id": "51c5a515-d2cc-48e1-ae71-5491bae239a1",
   "metadata": {},
   "source": [
    "## mkdir\n",
    "* Creates a new directory.\n",
    "* Common flags: `-p` (create parent directories if needed)\n",
    "* Example:\n",
    "```bash\n",
    "mkdir myfolder\n",
    "mkdir -p parent/child\n"
   ]
  },
  {
   "cell_type": "markdown",
   "id": "f4311992-4f61-45ec-a57a-f861cdd950cf",
   "metadata": {},
   "source": [
    "## ls -l\n",
    "* Lists files and directories in long format with details (permissions, owner, size, modification date).\n",
    "* Common flags: `-a` (show hidden files)\n",
    "* Example:\n",
    "    * ls -l\n",
    "    * ls -la"
   ]
  },
  {
   "cell_type": "markdown",
   "id": "dbe60d16-045c-48dd-96e2-b1f9648dbbe9",
   "metadata": {},
   "source": [
    "## pwd\n",
    "* Shows the current working directory.\n",
    "* Common flags: None\n",
    "* Example:\n",
    "pwd"
   ]
  },
  {
   "cell_type": "markdown",
   "id": "318a0f9b-5aed-468b-b12d-8b06e403d790",
   "metadata": {},
   "source": [
    "## touch\n",
    "* Creates an empty file or updates the timestamp of an existing file.\n",
    "* Common flags: None\n",
    "* Example:\n",
    "    * touch file1.txt\n",
    "    * touch file2.txt"
   ]
  },
  {
   "cell_type": "markdown",
   "id": "c1503375-9d43-4d7f-8978-3e7650233f44",
   "metadata": {},
   "source": [
    "## cd\n",
    "* Changes the current directory to the specified directory.\n",
    "* Common flags: None (cd normally takes a path as argument)\n",
    "* Example:\n",
    "```bash\n",
    "cd /home/user/Documents\n",
    "cd ..         # Back\n",
    "cd ~          # moves to home directory"
   ]
  },
  {
   "cell_type": "markdown",
   "id": "2cb617f5-197f-4ada-89d6-5b151420da83",
   "metadata": {},
   "source": [
    "## rm\n",
    "* Removes/deletes files.\n",
    "* Common flags: `-i` (ask before deleting), `-f` (force delete without prompt)\n",
    "* Example:\n",
    "    * rm file1.txt\n",
    "    * rm -i file2.txt"
   ]
  },
  {
   "cell_type": "markdown",
   "id": "7fdfbab6-3258-4f14-a255-b50d37618628",
   "metadata": {},
   "source": [
    "## rm -r\n",
    "* Removes directories and all their contents recursively.\n",
    "* Common flags: `-f` (force delete without prompt), `-i` (ask before deleting each file)\n",
    "* Example:\n",
    "    * rm -r myfolder\n",
    "    * rm -rf oldfolder"
   ]
  },
  {
   "cell_type": "markdown",
   "id": "f80a16f8-9af9-407e-b5a5-a45ac936a115",
   "metadata": {},
   "source": [
    "## rmdir\n",
    "* Removes empty directories only.\n",
    "* Common flags: `-p` (remove parent directories if they are empty)\n",
    "* Example:\n",
    "    * rmdir emptyfolder\n",
    "    * rmdir -p parent/child"
   ]
  },
  {
   "cell_type": "markdown",
   "id": "2fca3cc1-09b2-4062-9cce-462897bb0f78",
   "metadata": {},
   "source": [
    "## cat\n",
    "* Displays the content of a file, concatenates multiple files, or creates new files.\n",
    "* Common flags: `-n` (number all output lines), `-b` (number non-empty lines)\n",
    "* Example:\n",
    "    * cat file1.txt\n",
    "    * cat file1.txt file2.txt\n",
    "    * cat -n file1.txt"
   ]
  },
  {
   "cell_type": "markdown",
   "id": "a44cbf65-cb72-4fcd-acbd-9736528be234",
   "metadata": {},
   "source": [
    "## echo\n",
    "* Prints text or variables to the terminal.\n",
    "* Common flags: `-n` (do not output the trailing newline), `-e` (enable interpretation of backslash escapes)\n",
    "* Example:\n",
    "    * echo \"Hello World\"\n",
    "    * echo -n \"Hello World\"\n",
    "    * echo -e \"Line1\\nLine2\""
   ]
  },
  {
   "cell_type": "markdown",
   "id": "4083a1a6-63ab-450f-8389-82c6c82ad8c6",
   "metadata": {},
   "source": [
    "## head\n",
    "* Displays the first 10 lines of a file by default.\n",
    "* Common flags: `-n` (specify number of lines to display)\n",
    "* Example:\n",
    "    * head file1.txt\n",
    "    * head -n 5 file1.txt"
   ]
  },
  {
   "cell_type": "markdown",
   "id": "4ad99071-0e83-4ded-8661-f9a170f4a1b8",
   "metadata": {},
   "source": [
    "## tail\n",
    "* Displays the last 10 lines of a file by default.\n",
    "* Common flags: `-n` (number of lines), `-f` (follow file as it grows)\n",
    "* Example:\n",
    "    * tail file1.txt\n",
    "    * tail -n 5 file1.txt\n",
    "    * tail -f logfile.log"
   ]
  },
  {
   "cell_type": "markdown",
   "id": "14004c07-01bd-4baa-96bf-ef39ebf5f659",
   "metadata": {},
   "source": [
    "## echo \"some content\" > filename\n",
    "* Creates a new file with the specified content or **overwrites** an existing file.\n",
    "* Common flags: None (redirection `>` is used to write to a file)\n",
    "* Example:\n",
    "    * echo \"Hello World\" > file1.txt\n",
    "    * echo \"New Content\" > file2.txt"
   ]
  },
  {
   "cell_type": "markdown",
   "id": "36528514-2a59-40da-bcc7-df0c755ab0d7",
   "metadata": {},
   "source": [
    "## less\n",
    "* View file content **page by page** (scrollable, allows backward movement).\n",
    "* Common flags: None (navigation keys: `Space` for next page, `b` for previous)\n",
    "* Example:\n",
    "    * less file1.txt"
   ]
  },
  {
   "cell_type": "markdown",
   "id": "99e2ea07-173c-486a-8c22-f2ef73e7b03d",
   "metadata": {},
   "source": [
    "## more\n",
    "* View file content **page by page** (basic, mostly forward scrolling).\n",
    "* Common flags: None (use `Space` to go to next page, `Enter` to scroll line by line)\n",
    "* Example:\n",
    "    * more file1.txt\n",
    "    * more logfile.log"
   ]
  },
  {
   "cell_type": "markdown",
   "id": "336fd5d0-fc73-46df-89ab-843e23110f8c",
   "metadata": {},
   "source": [
    "## cp\n",
    "* Copies files from source to destination.\n",
    "* Common flags: `-i` (prompt before overwrite), `-v` (verbose output)\n",
    "* Example:\n",
    "    * cp file1.txt file2.txt\n",
    "    * cp -i file1.txt backup/\n",
    "    * cp -v file1.txt file2.txt"
   ]
  },
  {
   "cell_type": "markdown",
   "id": "239f7468-e065-497a-9bb8-a348101615c8",
   "metadata": {},
   "source": [
    "## cp -r\n",
    "* Copies directories **recursively**, including all subdirectories and files.\n",
    "* Common flags: `-i` (prompt before overwrite), `-v` (verbose output)\n",
    "* Example:\n",
    "    * cp -r myfolder/ backupfolder/\n",
    "    * cp -iv myfolder/ backupfolder/"
   ]
  },
  {
   "cell_type": "markdown",
   "id": "9d130911-6624-4611-8f50-8af34ddd431e",
   "metadata": {},
   "source": [
    "## mv\n",
    "* Moves or renames files and directories.\n",
    "* Common flags: `-i` (prompt before overwrite), `-v` (verbose output)\n",
    "* Example:\n",
    "    * mv file1.txt newfile.txt\n",
    "    * mv file1.txt /home/user/Documents/\n",
    "    * mv -iv file1.txt /home/user/Documents/"
   ]
  },
  {
   "cell_type": "markdown",
   "id": "109e3f13-f1d4-43c8-8d23-6e854589bee7",
   "metadata": {},
   "source": [
    "## wc\n",
    "* Counts lines, words, and characters in a file.\n",
    "* Common flags: `-l` (lines), `-w` (words), `-c` (characters)\n",
    "* Example:\n",
    "    * wc file1.txt\n",
    "    * wc -l file1.txt\n",
    "    * wc -w file1.txt\n",
    "    * wc -c file1.txt"
   ]
  },
  {
   "cell_type": "markdown",
   "id": "bd619096-74c6-41c9-95f9-c694e8196ef8",
   "metadata": {},
   "source": [
    "## Hard Link\n",
    "* Creates a **link to a file** that shares the same inode, making it indistinguishable from the original file.\n",
    "* Common flags: None\n",
    "* Example:\n",
    "    * ln file1.txt hardlink_file.txt"
   ]
  },
  {
   "cell_type": "markdown",
   "id": "b1da0b03-da93-49d3-940c-f535f2f28ef4",
   "metadata": {},
   "source": [
    "## Soft Link (Symbolic Link)\n",
    "* Creates a **shortcut to a file or directory**; points to the original file path.\n",
    "* Common flags: None\n",
    "* Example:\n",
    "    * ln -s /path/to/file1.txt softlink_file.txt\n",
    "    * ln -s /home/user/myfolder/ softlink_folder"
   ]
  },
  {
   "cell_type": "markdown",
   "id": "3d288c3e-79f9-4f5c-8faa-593821ccd5de",
   "metadata": {},
   "source": [
    "## cut\n",
    "* Extracts sections from each line of files or piped input.\n",
    "* Common flags: \n",
    "  - `-c` (characters)\n",
    "  - `-f` (fields/columns)\n",
    "  - `-d` (delimiter)\n",
    "* Example:\n",
    "    * cut -c 1-5 file1.txt          # first 5 characters of each line\n",
    "    * cut -f1,3 -d\",\" file.csv       # fields 1 and 3 separated by comma"
   ]
  },
  {
   "cell_type": "markdown",
   "id": "d7cb5570-e62e-4509-8574-479bfc839ce4",
   "metadata": {},
   "source": [
    "## tee\n",
    "* Reads input and writes it **both to a file and to standard output**.\n",
    "* Common flags: `-a` (append to file instead of overwriting)\n",
    "* Example:\n",
    "    * echo \"Hello World\" | tee file1.txt\n",
    "    * echo \"Additional Line\" | tee -a file1.txt"
   ]
  },
  {
   "cell_type": "markdown",
   "id": "a7a00e78-94ac-4806-8f83-863c7d032424",
   "metadata": {},
   "source": [
    "## sort\n",
    "* Sorts lines of text files alphabetically or numerically.\n",
    "* Common flags: `-r` (reverse), `-n` (numeric), `-k` (sort by column)\n",
    "* Example:\n",
    "    * sort file1.txt\n",
    "    * sort -r file1.txt\n",
    "    * sort -n numbers.txt\n",
    "    * sort -k2 file.csv"
   ]
  },
  {
   "cell_type": "markdown",
   "id": "9e3ddf35-daf5-4c68-89d2-3ed1584847b1",
   "metadata": {},
   "source": [
    "## clear\n",
    "* Clears the terminal screen.\n",
    "* Common flags: None\n",
    "* Example:\n",
    "    * clear"
   ]
  },
  {
   "cell_type": "markdown",
   "id": "40345eb9-6979-48a9-b7bc-38349d4180fe",
   "metadata": {},
   "source": [
    "## diff\n",
    "* Compares two files line by line and shows differences.\n",
    "* Common flags: `-u` (unified format), `-c` (context format)\n",
    "* Example:\n",
    "    * diff file1.txt file2.txt\n",
    "    * diff -u file1.txt file2.txt"
   ]
  },
  {
   "cell_type": "markdown",
   "id": "7b81e416-7284-424d-b218-ea84bf29ab84",
   "metadata": {},
   "source": [
    "## df\n",
    "* Shows disk space usage of file systems.\n",
    "* Common flags: `-h` (human-readable), `-T` (show filesystem type)\n",
    "* Example:\n",
    "    * df\n",
    "    * df -h\n",
    "    * df -hT"
   ]
  },
  {
   "cell_type": "markdown",
   "id": "70679782-ee42-4872-acf6-96a841b146a4",
   "metadata": {},
   "source": [
    "## du\n",
    "* Shows disk usage of files and directories.\n",
    "* Common flags: `-h` (human-readable), `-s` (summary for each argument), `-a` (show all files)\n",
    "* Example:\n",
    "    * du myfolder/\n",
    "    * du -h myfolder/\n",
    "    * du -sh myfolder/\n",
    "    * du -ah myfolder/"
   ]
  },
  {
   "cell_type": "markdown",
   "id": "ed7ed23e-1e5f-42ae-bb83-3f49f4da0d19",
   "metadata": {},
   "source": [
    "## ps\n",
    "* Displays currently running processes.\n",
    "* Common flags: `-e` (all processes), `-f` (full-format listing), `-u` (processes for a specific user)\n",
    "* Example:\n",
    "    * ps\n",
    "    * ps -ef\n",
    "    * ps -u username"
   ]
  },
  {
   "cell_type": "markdown",
   "id": "9240caba-13a2-4817-8a16-7596b214e5a1",
   "metadata": {},
   "source": [
    "## top\n",
    "* Displays real-time running processes and system resource usage (CPU, memory).\n",
    "* Common flags: `-n` (number of iterations), `-u` (user-specific processes)\n",
    "* Example:\n",
    "    * top\n",
    "    * top -n 1\n",
    "    * top -u username"
   ]
  },
  {
   "cell_type": "markdown",
   "id": "08275e3b-ba43-46ca-b5b4-23feed86f901",
   "metadata": {},
   "source": [
    "## fuser\n",
    "* Shows which processes are using a file, directory, or socket.\n",
    "* Common flags: `-k` (kill processes accessing the file), `-v` (verbose)\n",
    "* Example:\n",
    "    * fuser file1.txt\n",
    "    * fuser -v file1.txt\n",
    "    * fuser -k file1.txt"
   ]
  },
  {
   "cell_type": "markdown",
   "id": "926080ff-a9b8-4407-a618-56321d4c458d",
   "metadata": {},
   "source": [
    "## kill\n",
    "* Terminates a process using its PID (Process ID).\n",
    "* Common flags: `-9` (force kill), `-15` (default signal, graceful termination)\n",
    "* Example:\n",
    "    * kill 1234\n",
    "    * kill -9 1234\n",
    "    * kill -15 1234"
   ]
  },
  {
   "cell_type": "markdown",
   "id": "0041ed6d-126b-47c9-8996-690ac92e7274",
   "metadata": {},
   "source": [
    "## free -h\n",
    "* Displays memory usage in a human-readable format (RAM and swap).\n",
    "* Common flags: `-h` (human-readable), `-m` (megabytes), `-g` (gigabytes)\n",
    "* Example:\n",
    "    * free -h\n",
    "    * free -m\n",
    "    * free -g"
   ]
  },
  {
   "cell_type": "markdown",
   "id": "4c8f7397-8639-4422-881d-f6c1c136d9d8",
   "metadata": {},
   "source": [
    "## nohup\n",
    "* Runs a command immune to hangups; process continues running after logout.\n",
    "* Common flags: None (often used with `&` to run in background)\n",
    "* Example:\n",
    "    * nohup long_running_script.sh &\n",
    "    * nohup python3 myscript.py &"
   ]
  },
  {
   "cell_type": "markdown",
   "id": "bacd6c30-fc13-47a7-ba72-744a8de0ff5b",
   "metadata": {},
   "source": [
    "## vmstat\n",
    "* Shows virtual memory, CPU, and system statistics.\n",
    "* Common flags: None (can specify delay for repeated updates)\n",
    "* Example:\n",
    "    * vmstat\n",
    "    * vmstat 2      # updates every 2 seconds\n",
    "    * vmstat 2 5    # updates every 2 seconds, 5 times"
   ]
  },
  {
   "cell_type": "markdown",
   "id": "007c5a5e-734e-4573-abfe-c19111a5fbf7",
   "metadata": {},
   "source": [
    "# System Level Command"
   ]
  },
  {
   "cell_type": "markdown",
   "id": "9139762e-1e29-43f2-b8f6-4a81240c8e54",
   "metadata": {},
   "source": [
    "## uname\n",
    "* Displays system information like kernel name, version, and architecture.\n",
    "* Common flags: `-a` (all information), `-r` (kernel release), `-m` (machine hardware name)\n",
    "* Example:\n",
    "    * uname\n",
    "    * uname -a\n",
    "    * uname -r\n",
    "    * uname -m\n"
   ]
  },
  {
   "cell_type": "markdown",
   "id": "a023afcf-c48a-421b-a746-7c1eb20b4afd",
   "metadata": {},
   "source": [
    "## uptime\n",
    "* Shows how long the system has been running, number of users logged in, and system load averages.\n",
    "* Common flags: None (basic usage shows all info)\n",
    "* Example:\n",
    "    * uptime"
   ]
  },
  {
   "cell_type": "markdown",
   "id": "1b8d1bca-0762-4e7e-a7f6-f12828dfc143",
   "metadata": {},
   "source": [
    "## who\n",
    "* Displays information about users currently logged into the system.\n",
    "* Common flags: `-b` (time of last system boot), `-u` (idle time of users), `-q` (quick list of logged-in users)\n",
    "* Example:\n",
    "    * who\n",
    "    * who -b\n",
    "    * who -u\n",
    "    * who -q"
   ]
  },
  {
   "cell_type": "markdown",
   "id": "7437ef67-4ac2-48a9-be05-0888fb2f9971",
   "metadata": {},
   "source": [
    "## whoami\n",
    "* Shows the username of the current user.\n",
    "* Common flags: None\n",
    "* Example:\n",
    "    * whoami"
   ]
  },
  {
   "cell_type": "markdown",
   "id": "644ec1cf-62ec-4ab4-978c-bc3948f20f50",
   "metadata": {},
   "source": [
    "## which\n",
    "* Shows the full path of a command/executable that would run in the current environment.\n",
    "* Common flags: None\n",
    "* Example:\n",
    "    * which python3\n",
    "    * which ls"
   ]
  },
  {
   "cell_type": "markdown",
   "id": "0de19823-5162-4e1f-b324-6ec8b4efb9c7",
   "metadata": {},
   "source": [
    "## id\n",
    "* Displays user ID (UID), group ID (GID), and groups the current user belongs to.\n",
    "* Common flags: `-u` (user ID), `-g` (group ID), `-G` (all group IDs)\n",
    "* Example:\n",
    "    * id\n",
    "    * id -u\n",
    "    * id -g\n",
    "    * id -G"
   ]
  },
  {
   "cell_type": "markdown",
   "id": "29d7594a-31db-487d-af0a-9fabf2906f08",
   "metadata": {},
   "source": [
    "## sudo\n",
    "* Executes a command with **superuser (root) privileges**.\n",
    "* Common flags: `-i` (login shell), `-s` (run shell as root), `-u` (run command as another user)\n",
    "* Example:\n",
    "    * sudo apt update\n",
    "    * sudo -i\n",
    "    * sudo -u username whoami"
   ]
  },
  {
   "cell_type": "markdown",
   "id": "81ee06c7-7d41-42b0-bd7c-d746955f4e63",
   "metadata": {},
   "source": [
    "## shutdown\n",
    "* Shuts down or reboots the system safely.\n",
    "* Common flags: `-h` (halt/power off), `-r` (reboot), `-t` (time delay), `now` (immediate)\n",
    "* Example:\n",
    "    * shutdown -h now      # shutdown immediately\n",
    "    * shutdown -r +10      # reboot after 10 minutes\n",
    "    * shutdown -h 22:00    # shutdown at 10 PM"
   ]
  },
  {
   "cell_type": "markdown",
   "id": "4fde2539-77f6-48a1-94fa-0c258db33f58",
   "metadata": {},
   "source": [
    "## reboot\n",
    "* Restarts the system immediately.\n",
    "* Common flags: None (usually requires sudo/root privileges)\n",
    "* Example:\n",
    "    * reboot\n",
    "    * sudo reboot"
   ]
  },
  {
   "cell_type": "markdown",
   "id": "c0e6f0ed-c854-4ed8-bd63-c65f8459747b",
   "metadata": {},
   "source": [
    "## apt\n",
    "* A package management command used to install, update, and remove software on Debian/Ubuntu-based systems.\n",
    "* Common flags: `update` (refresh package list), `upgrade` (upgrade installed packages), `install` (install package), `remove` (remove package)\n",
    "* Example:\n",
    "    * sudo apt update\n",
    "    * sudo apt upgrade\n",
    "    * sudo apt install git\n",
    "    * sudo apt remove nano\n"
   ]
  },
  {
   "cell_type": "markdown",
   "id": "db214b6c-3292-476e-a669-d168656a8ec7",
   "metadata": {},
   "source": [
    "# User and Groups Management:-"
   ]
  },
  {
   "cell_type": "markdown",
   "id": "dcb1a3e1-ee28-48f4-a5bc-89f642a06fb9",
   "metadata": {},
   "source": [
    "## sudo\n",
    "* Allows a permitted user to execute a command as the superuser (root) or another user.\n",
    "* It is used to perform administrative tasks without logging in as root.\n",
    "* Common flags: \n",
    "  - `-i` : runs a login shell as root\n",
    "  - `-s` : runs shell with root privileges\n",
    "  - `-u` : run command as another user\n",
    "* Example:\n",
    "    * sudo apt update\n",
    "    * sudo -i\n",
    "    * sudo -u username whoami"
   ]
  },
  {
   "cell_type": "markdown",
   "id": "0190f1cf-0952-4720-8b54-14fa1871973e",
   "metadata": {},
   "source": [
    "## useradd\n",
    "* Adds a new user account to the system.\n",
    "* Common flags:\n",
    "  - `-m` : create home directory for the user\n",
    "  - `-s` : specify default shell for the user\n",
    "  - `-G` : add user to supplementary groups\n",
    "* Example:\n",
    "    * sudo useradd -m -s /bin/bash newuser\n",
    "    * sudo useradd -m -s /bin/bash -G sudo newuser"
   ]
  },
  {
   "cell_type": "markdown",
   "id": "d43dc414-f3ae-444e-bb84-054203f91725",
   "metadata": {},
   "source": [
    "## su\n",
    "* Switches the current user to another user account.\n",
    "* Common flags:\n",
    "  - `-` or `-l` : starts a login shell for the target user\n",
    "* Example:\n",
    "    * su             # switches to root user (asks for root password)\n",
    "    * su - username  # switches to specified user with login environment"
   ]
  },
  {
   "cell_type": "markdown",
   "id": "99bcce6e-8255-4cc3-8005-7fd94ac3ac74",
   "metadata": {},
   "source": [
    "## passwd\n",
    "* Changes the password of a user account.\n",
    "* Common flags:\n",
    "  - `--stdin` : read password from standard input (for scripts)\n",
    "  - `-l` : lock the user account\n",
    "  - `-u` : unlock the user account\n",
    "* Example:\n",
    "    * passwd               # change password for current user\n",
    "    * sudo passwd username # change password for another user\n",
    "    * sudo passwd -l username # lock a user account\n",
    "    * sudo passwd -u username # unlock a user account"
   ]
  },
  {
   "cell_type": "markdown",
   "id": "28fd08f5-0cef-4271-addc-b0816d56c1e5",
   "metadata": {},
   "source": [
    "## userdel\n",
    "* Deletes a user account from the system.\n",
    "* Common flags:\n",
    "  - `-r` : remove the user's home directory and mail spool\n",
    "  - `-f` : force deletion even if user is logged in\n",
    "* Example:\n",
    "    * sudo userdel username\n",
    "    * sudo userdel -r username\n",
    "    * sudo userdel -f username"
   ]
  },
  {
   "cell_type": "markdown",
   "id": "e02b3098-09e9-4c59-bfe3-76b0fe6aaed1",
   "metadata": {},
   "source": [
    "## groupadd\n",
    "* Creates a new group on the system.\n",
    "* Common flags:\n",
    "  - `-g` : specify the group ID (GID)\n",
    "  - `-r` : create a system group\n",
    "* Example:\n",
    "    * sudo groupadd developers\n",
    "    * sudo groupadd -g 1050 projectteam\n",
    "    * sudo groupadd -r systemgroup"
   ]
  },
  {
   "cell_type": "markdown",
   "id": "7e386ede-2dbc-4e1f-8ca2-8a10c7cbbee8",
   "metadata": {},
   "source": [
    "## gpasswd\n",
    "* Administers `/etc/group` and manages group memberships.\n",
    "* Common flags:\n",
    "  - `-a` : add a user to a group\n",
    "  - `-d` : remove a user from a group\n",
    "  - `-m` : (not standard in all Linux) sometimes used to manage group memberships or set password\n",
    "* Example:\n",
    "    * sudo gpasswd -a username groupname   # add user to group\n",
    "    * sudo gpasswd -d username groupname   # remove user from group\n",
    "\n",
    "> Note: `-m` flag is not standard in all Linux distros. Most commonly, `-a` and `-d` are used for group membership management."
   ]
  },
  {
   "cell_type": "markdown",
   "id": "d8b1c727-fdd0-4892-b972-28b72358ec60",
   "metadata": {},
   "source": [
    "## groupdel\n",
    "* Deletes a group from the system.\n",
    "* Common flags: None\n",
    "* Example:\n",
    "    * sudo groupdel groupname\n"
   ]
  },
  {
   "cell_type": "markdown",
   "id": "16e47641-354f-4560-9fc4-ad63f075583f",
   "metadata": {},
   "source": [
    "# File Permissions"
   ]
  },
  {
   "cell_type": "markdown",
   "id": "70759d13-55cb-472f-b408-b288ea8f7018",
   "metadata": {},
   "source": [
    "## chmod\n",
    "* Purpose: Changes the **permissions** of a file or directory.  \n",
    "  Permissions control **who can read, write, or execute** a file.  \n",
    "\n",
    "* Permission Types:\n",
    "  - `r` : Read permission (view file content)\n",
    "  - `w` : Write permission (modify file content)\n",
    "  - `x` : Execute permission (run file as program or script)\n",
    "\n",
    "* Permission Classes:\n",
    "  - `u` : User / owner\n",
    "  - `g` : Group\n",
    "  - `o` : Others\n",
    "  - `a` : All (user + group + others)\n",
    "\n",
    "* Ways to Set Permissions:\n",
    "\n",
    "1. **Symbolic Mode**:\n",
    "   - Add permission: `+`\n",
    "   - Remove permission: `-`\n",
    "   - Set exact permission: `=`\n",
    "   \n",
    "   Example:\n",
    "   ```bash\n",
    "   chmod u+rwx file1.txt   # add read, write, execute for user\n",
    "   chmod g+rx file1.txt    # add read and execute for group\n",
    "   chmod o-r file1.txt     # remove read permission for others\n",
    "   chmod a=r file1.txt     # set read-only for all\n",
    "\n",
    "\n",
    "* Each permission is represented by a number:\n",
    "\n",
    "    * r = 4\n",
    "    * w = 2\n",
    "    * x = 1\n",
    "\n",
    "    Example:\n",
    "\n",
    "    chmod 755 file1.txt   # rwx for user, r-x for group, r-x for others\n",
    "    chmod 644 file1.txt   # rw- for user, r-- for group, r-- for others\n",
    "    chmod 700 myscript.sh # rwx for user, none for group and others\n",
    "\n",
    "* -R : apply permissions recursively to all files and directories inside a directory\n",
    "\n",
    "chmod -R 755 myfolder/\n",
    "chmod -R u+rwX,g+rX,o-rwx myfolder/\n"
   ]
  },
  {
   "cell_type": "markdown",
   "id": "426af31f-e291-4538-8e38-75befdaefd46",
   "metadata": {},
   "source": [
    "## umask\n",
    "* Sets the **default permission** for newly created files and directories.\n",
    "* It works by **masking out** permissions; the system subtracts the umask value from the default permissions.\n",
    "* Default permissions:\n",
    "  - Files: 666 (rw-rw-rw-)\n",
    "  - Directories: 777 (rwxrwxrwx)\n",
    "\n",
    "* Example:\n",
    "    * umask                 # shows current umask (e.g., 0022)\n",
    "    * umask 0022            # new files: 644, new directories: 755\n",
    "    * umask 0007            # new files: 660, new directories: 770\n"
   ]
  },
  {
   "cell_type": "markdown",
   "id": "cf5e4dbb-01e7-422a-baf1-73750cc4368a",
   "metadata": {},
   "source": [
    "## chown\n",
    "* Purpose: Changes the **ownership** of a file or directory.\n",
    "  - Every file/directory in Linux has an **owner** (user) and a **group**.\n",
    "  - Owner: Who owns the file.\n",
    "  - Group: Which group has permissions on the file.\n",
    "\n",
    "* Syntax:\n",
    "    * chown [OPTION] USER[:GROUP] FILE/DIRECTORY\n"
   ]
  },
  {
   "cell_type": "markdown",
   "id": "e463202c-5897-4002-8706-73e22ab0aa59",
   "metadata": {},
   "source": [
    "## chgrp\n",
    "* Changes the **group ownership** of a file or directory.\n",
    "* Useful when multiple users share access to files via a common group.\n",
    "* Common flags:\n",
    "  - `-R` : apply changes **recursively** to all files and directories inside a directory\n",
    "  - `--reference=FILE` : set group same as another file\n",
    "* Example:\n",
    "    * sudo chgrp developers file1.txt        # change group ownership to 'developers'\n",
    "    * sudo chgrp -R projectteam myfolder/    # recursive change for folder and all contents\n",
    "    * sudo chgrp --reference=ref.txt file1.txt  # set group same as ref.txt\n",
    "\n",
    "* Notes:\n",
    "\n",
    "    * Only the file owner or root user can change the group.\n",
    "    * Helps manage shared access without changing file owner."
   ]
  },
  {
   "cell_type": "markdown",
   "id": "c437efe3-507d-4e9f-89dd-a71f01fe6aab",
   "metadata": {},
   "source": [
    "# Compress Commands"
   ]
  },
  {
   "cell_type": "markdown",
   "id": "d5c14f94-524c-416e-b7f3-56a306f5b352",
   "metadata": {},
   "source": [
    "## zip\n",
    "* Compresses files and directories into a `.zip` archive.\n",
    "* Common flags:\n",
    "  - `-r` : recursively include directories\n",
    "  - `-q` : quiet mode (less output)\n",
    "  - `-e` : encrypt archive with password\n",
    "* Example:\n",
    "    * zip archive.zip file1.txt file2.txt         # compress specific files\n",
    "    * zip -r archive.zip myfolder/                # compress directory recursively\n",
    "    * zip -e archive.zip file1.txt                # compress with password"
   ]
  },
  {
   "cell_type": "markdown",
   "id": "53002756-6714-4fe9-93e2-73b24da22f4f",
   "metadata": {},
   "source": [
    "## unzip\n",
    "* Extracts files from a `.zip` archive.\n",
    "* Common flags:\n",
    "  - `-l` : list contents of the archive\n",
    "  - `-d` : specify destination directory for extraction\n",
    "  - `-o` : overwrite existing files without prompting\n",
    "* Example:\n",
    "    * unzip archive.zip                      # extract files to current directory\n",
    "    * unzip -l archive.zip                   # list contents of the zip file\n",
    "    * unzip archive.zip -d /home/user/docs   # extract to specific directory\n",
    "    * unzip -o archive.zip                    # overwrite existing files without prompt"
   ]
  },
  {
   "cell_type": "markdown",
   "id": "a2eaa88a-45a0-4de5-88a9-08c81203e2ab",
   "metadata": {},
   "source": [
    "## tar\n",
    "* Archives multiple files and directories into a single file, optionally compressing it.\n",
    "* Common flags:\n",
    "  - `-c` : create a new archive\n",
    "  - `-x` : extract files from an archive\n",
    "  - `-t` : list contents of an archive\n",
    "  - `-v` : verbose output (shows files being processed)\n",
    "  - `-f` : specify archive filename\n",
    "  - `-z` : compress/decompress using gzip\n",
    "  - `-j` : compress/decompress using bzip2\n",
    "* Example:\n",
    "    * tar -cvf archive.tar file1.txt file2.txt       # create archive\n",
    "    * tar -czvf archive.tar.gz myfolder/             # create gzip compressed archive\n",
    "    * tar -xvf archive.tar                            # extract archive\n",
    "    * tar -xzvf archive.tar.gz -C /home/user/docs    # extract gzip archive to specific directory\n",
    "    * tar -tvf archive.tar                            # list contents of archive"
   ]
  },
  {
   "cell_type": "markdown",
   "id": "6f20a013-1841-4ba7-b03b-e76ecc31533e",
   "metadata": {},
   "source": [
    "## scp\n",
    "* Securely copies files or directories between local and remote systems over SSH.\n",
    "* Common flags:\n",
    "  - `-r` : recursively copy directories\n",
    "  - `-P` : specify remote SSH port\n",
    "  - `-i` : use a specific private key for authentication\n",
    "  - `-v` : verbose mode\n",
    "* Example:\n",
    "    * scp file1.txt user@remote_host:/home/user/    # copy file to remote system\n",
    "    * scp -r myfolder/ user@remote_host:/home/user/ # copy directory recursively\n",
    "    * scp -P 2222 file1.txt user@remote_host:/home/user/ # use custom SSH port\n",
    "    * scp -i ~/.ssh/id_rsa file1.txt user@remote_host:/home/user/ # use specific key"
   ]
  },
  {
   "cell_type": "markdown",
   "id": "dfd0ea1b-2d6b-4994-b8b5-b76daaddadaf",
   "metadata": {},
   "source": [
    "## rsync\n",
    "* Synchronizes files and directories between local and remote systems, efficiently transferring only changed parts.\n",
    "* Common flags:\n",
    "  - `-a` : archive mode (preserves permissions, timestamps, symbolic links)\n",
    "  - `-v` : verbose\n",
    "  - `-z` : compress file data during transfer\n",
    "  - `-r` : recursive copy\n",
    "  - `--delete` : delete files on destination that are not in source\n",
    "* Example:\n",
    "    * rsync -av file1.txt /backup/                   # copy file locally with verbose\n",
    "    * rsync -az /myfolder/ user@remote_host:/backup/ # sync folder to remote with compression\n",
    "    * rsync -av --delete /source/ /destination/      # sync and delete extra files"
   ]
  },
  {
   "cell_type": "markdown",
   "id": "85d64f73-27e3-4361-b4a3-7c479fbe22c2",
   "metadata": {},
   "source": [
    "# HardLink"
   ]
  },
  {
   "cell_type": "markdown",
   "id": "421908cc-6bc8-4f72-ba91-ddd20f6af546",
   "metadata": {},
   "source": [
    "Definition: Ek file ka exact duplicate banata hai jo same inode number use karta hai.\n",
    "\n",
    "* Key Points:\n",
    "\n",
    "    * Original file delete hone par bhi hard link ka content safe rehta hai.\n",
    "\n",
    "    * File ke content ke saath directly linked hota hai, different path ya directory me ho sakta hai.\n",
    "\n",
    "    * Directory ke liye generally hard link nahi banate (except . aur .. system links)."
   ]
  },
  {
   "cell_type": "markdown",
   "id": "86a662fc-d06b-4590-b297-244271c088c8",
   "metadata": {},
   "source": [
    "#### Example\n",
    "echo \"Hello World\" > file1.txt\n",
    "\n",
    "ln file1.txt hardlink_file1.txt\n",
    "\n",
    "ls -li\n",
    "\n",
    "    * dono file1.txt aur hardlink_file1.txt ka inode number same hoga\n",
    "\n",
    "#### Check\n",
    "    * cat hardlink_file1.txt   # Output: Hello World\n",
    "    * rm file1.txt\n",
    "    * cat hardlink_file1.txt   # Output: Hello World (content safe hai)\n"
   ]
  },
  {
   "cell_type": "markdown",
   "id": "f31b6ceb-0d39-4484-9ce5-a48f3683e006",
   "metadata": {},
   "source": [
    "# Soft Link (Symbolic Link)\n",
    "\n",
    "Definition: Ek file ka shortcut ya pointer banata hai original file ke liye.\n",
    "\n",
    "* Key Points:\n",
    "\n",
    "    * Original file delete ho jaye to soft link broken ho jata hai.\n",
    "    * Alag inode number hota hai, sirf file ka path point karta hai.\n",
    "    * Soft link directory ke liye bhi use ho sakta hai.\n",
    "\n",
    "#### Example:\n",
    "\n",
    "    * ln -s file1.txt softlink_file1.txt\n",
    "\n",
    "    * ls -li\n",
    "    \n",
    "##### file1.txt aur softlink_file1.txt ke inode alag honge\n",
    "\n",
    "#### Check\n",
    "\n",
    "    * cat softlink_file1.txt   # Output: Hello World\n",
    "    * rm file1.txt\n",
    "    * cat softlink_file1.txt   # Output: cat: softlink_file1.txt: No such file or directory\n"
   ]
  },
  {
   "cell_type": "markdown",
   "id": "9b568eb4-2d1e-41da-94a3-68b2ce695056",
   "metadata": {},
   "source": [
    "| Feature                | Hard Link              | Soft Link (Symbolic) |\n",
    "| ---------------------- | ---------------------- | -------------------- |\n",
    "| Points to              | File data (inode)      | File path (filename) |\n",
    "| Can cross filesystem?  | ❌ No                   | ✅ Yes                |\n",
    "| Original deleted?      | ❌ No, still accessible | ✅ Broken             |\n",
    "| Works for directories? | ❌ Usually not          | ✅ Yes                |\n",
    "| Inode number           | Same as original       | Different            |\n"
   ]
  },
  {
   "cell_type": "markdown",
   "id": "51854a1d-4b0d-43d2-b10c-ac21f16af952",
   "metadata": {},
   "source": [
    "# Networking Commands"
   ]
  },
  {
   "cell_type": "markdown",
   "id": "100ec765-a6bc-4d51-80a3-1d40194f4410",
   "metadata": {},
   "source": [
    "## ping\n",
    "* Sends ICMP echo requests to a host to check **network connectivity** and **latency**.\n",
    "* Common flags:\n",
    "  - `-c` : number of packets to send\n",
    "  - `-i` : interval between packets (seconds)\n",
    "  - `-t` : TTL (Time To Live) value\n",
    "  - `-s` : packet size\n",
    "* Example:\n",
    "    * ping google.com             # continuous ping until stopped\n",
    "    * ping -c 4 google.com        # send 4 packets\n",
    "    * ping -i 2 google.com        # send packets every 2 seconds\n",
    "    * ping -s 100 google.com      # send packets with 100 bytes of data\n"
   ]
  },
  {
   "cell_type": "markdown",
   "id": "bf45db9c-12a0-4f26-a390-611d25f163c2",
   "metadata": {},
   "source": [
    "## netstat\n",
    "* Displays network connections, routing tables, interface statistics, and listening ports.\n",
    "* Common flags:\n",
    "  - `-t` : show TCP connections\n",
    "  - `-u` : show UDP connections\n",
    "  - `-l` : show listening sockets\n",
    "  - `-p` : show PID/program name using the connection\n",
    "  - `-a` : show all connections\n",
    "* Example:\n",
    "    * netstat                 # show all network info\n",
    "    * netstat -t              # show TCP connections\n",
    "    * netstat -u              # show UDP connections\n",
    "    * netstat -tulnp          # show listening TCP/UDP sockets with PID\n",
    "    * netstat -a              # show all connections and listening ports"
   ]
  },
  {
   "cell_type": "markdown",
   "id": "927a920c-31cf-4cc3-8f26-2a0917d7b1c2",
   "metadata": {},
   "source": [
    "## ifconfig\n",
    "* Purpose: Displays and configures **network interfaces** on a Linux system.\n",
    "* Shows interface details like **IP address, netmask, broadcast address, MAC address, and status**.\n",
    "* Can also be used to **enable or disable interfaces** or assign IP addresses.\n",
    "* Common flags / usage:\n",
    "  - `interface_name` : display or configure specific interface\n",
    "  - `up` / `down` : bring interface up or down\n",
    "  - `netmask` : assign subnet mask\n",
    "* Example:\n",
    "    * ifconfig                   # show all active network interfaces\n",
    "    * ifconfig eth0              # show details for eth0 interface\n",
    "    * sudo ifconfig eth0 192.168.1.10 netmask 255.255.255.0 up  # assign IP and bring interface up\n",
    "    * sudo ifconfig eth0 down     # disable interface"
   ]
  },
  {
   "cell_type": "markdown",
   "id": "cdcadd9f-a871-4d64-bd6b-117c22b4e5df",
   "metadata": {},
   "source": [
    "## traceroute\n",
    "* Traces the **path packets take** from your system to a destination host.\n",
    "* Shows each **hop (router)** along the way and the **time** taken.\n",
    "* Common flags:\n",
    "  - `-m` : set max number of hops\n",
    "  - `-n` : do not resolve IPs to hostnames (faster)\n",
    "  - `-w` : set timeout per hop\n",
    "* Example:\n",
    "    * traceroute google.com           # trace path to google.com\n",
    "    * traceroute -m 20 google.com     # max 20 hops\n",
    "    * traceroute -n google.com        # show IP addresses only\n",
    "    * traceroute -w 2 google.com      # timeout 2 seconds per hop"
   ]
  },
  {
   "cell_type": "markdown",
   "id": "7ca5faf4-e5b1-4862-9cf7-d075906b44f6",
   "metadata": {},
   "source": [
    "## tracepath\n",
    "* Traces the **path packets take** to a destination, similar to `traceroute`.\n",
    "* Unlike `traceroute`, it **does not require root privileges** and automatically detects MTU (Maximum Transmission Unit) along the path.\n",
    "* Common flags:\n",
    "  - `-n` : show numeric IP addresses without resolving hostnames\n",
    "  - `-b` : show both hostnames and numeric addresses\n",
    "* Example:\n",
    "    * tracepath google.com           # trace path to google.com\n",
    "    * tracepath -n google.com        # show numeric IPs only\n",
    "    * tracepath -b google.com        # show both hostnames and IPs"
   ]
  },
  {
   "cell_type": "markdown",
   "id": "bc085ff8-46d5-47af-be1a-7804910bc6e1",
   "metadata": {},
   "source": [
    "## mtr\n",
    "* Combines the functionality of `ping` and `traceroute` to provide **real-time network diagnostics**.\n",
    "* Continuously monitors the path packets take and displays **latency, packet loss, and hop information**.\n",
    "* Common flags:\n",
    "  - `-r` : generate a report instead of interactive mode\n",
    "  - `-c` : specify number of pings per hop\n",
    "  - `-n` : numeric output (do not resolve hostnames)\n",
    "* Example:\n",
    "    * mtr google.com                # interactive mode\n",
    "    * mtr -r -c 10 google.com       # generate report with 10 pings per hop\n",
    "    * mtr -n google.com             # numeric output only\n"
   ]
  },
  {
   "cell_type": "markdown",
   "id": "10b2999a-abd9-4813-b392-e79eb86a36c7",
   "metadata": {},
   "source": [
    "## nslookup\n",
    "* Queries DNS servers to find **IP addresses associated with domain names** or vice versa.\n",
    "* Common flags / usage:\n",
    "  - Can specify a particular DNS server\n",
    "  - Interactive mode allows multiple queries\n",
    "* Example:\n",
    "    * nslookup google.com            # find IP of google.com\n",
    "    * nslookup 8.8.8.8               # find domain name associated with IP\n",
    "    * nslookup                        # enter interactive mode for multiple queries\n",
    "> set type=MX\n",
    "          \n",
    "> example.com                  # check mail servers for example.com\n"
   ]
  },
  {
   "cell_type": "markdown",
   "id": "6cec554b-701d-4fbe-91fc-879c422dc466",
   "metadata": {},
   "source": [
    "## telnet\n",
    "* Used to **connect to remote hosts** over TCP/IP for testing or communication.\n",
    "* Common uses: testing **network connectivity to specific ports**, simple text-based communication.\n",
    "* Common flags / usage:\n",
    "  - `host` : target hostname or IP\n",
    "  - `port` : target port number\n",
    "* Example:\n",
    "    * telnet google.com 80          # connect to port 80 on google.com\n",
    "    * telnet 192.168.1.10 22        # connect to SSH port of a local host"
   ]
  },
  {
   "cell_type": "markdown",
   "id": "0abe5c09-f237-4801-aca4-4946e3d94d0b",
   "metadata": {},
   "source": [
    "## hostname\n",
    "* Displays or sets the **system's hostname** (name of the computer on the network).\n",
    "* Common flags:\n",
    "  - `-i` : display IP address of hostname\n",
    "  - `-I` : display all IP addresses assigned to host\n",
    "  - `-f` : display fully qualified domain name (FQDN)\n",
    "  - `-s` : display short hostname\n",
    "* Example:\n",
    "    * hostname                   # show current hostname\n",
    "    * hostname -i                # show IP address of hostname\n",
    "    * hostname -I                # show all IP addresses\n",
    "    * hostnamectl set-hostname myserver   # change system hostname"
   ]
  },
  {
   "cell_type": "markdown",
   "id": "d74b0097-a698-4313-9a73-8a0c603e0a68",
   "metadata": {},
   "source": [
    "## ip\n",
    "* Displays and manages **network interfaces, addresses, routes, and tunnels**.\n",
    "* Replaces older commands like `ifconfig` and `route`.\n",
    "* Common subcommands:\n",
    "  - `ip addr` : show IP addresses assigned to interfaces\n",
    "  - `ip link` : show network interfaces\n",
    "  - `ip route` : show routing table\n",
    "  - `ip neigh` : show ARP table\n",
    "* Common flags:\n",
    "  - `add` : assign IP address\n",
    "  - `del` : remove IP address\n",
    "  - `up` / `down` : activate or deactivate interface\n",
    "* Example:\n",
    "    * ip addr show                     # show all IP addresses\n",
    "    * ip addr add 192.168.1.10/24 dev eth0   # assign IP to interface\n",
    "    * ip link set eth0 up               # activate interface\n",
    "    * ip link set eth0 down             # deactivate interface\n",
    "    * ip route show                     # display routing table"
   ]
  },
  {
   "cell_type": "markdown",
   "id": "e5227ec6-fc7b-40b5-a872-29ec9572c556",
   "metadata": {},
   "source": [
    "## iwconfig\n",
    "* Displays or configures **wireless network interfaces**.\n",
    "* Similar to `ifconfig`, but specifically for **Wi-Fi settings**.\n",
    "* Common flags / usage:\n",
    "  - `interface` : specify wireless interface (e.g., wlan0)\n",
    "  - `essid` : set or view network SSID\n",
    "  - `mode` : set mode (Managed, Ad-Hoc, Monitor)\n",
    "  - `key` : set WEP/WPA key\n",
    "* Example:\n",
    "    * iwconfig                     # show all wireless interfaces and settings\n",
    "    * iwconfig wlan0                # show details for wlan0\n",
    "    * sudo iwconfig wlan0 essid \"MyWiFi\"   # connect to network by SSID\n",
    "    * sudo iwconfig wlan0 mode Managed    # set interface to managed mode"
   ]
  },
  {
   "cell_type": "markdown",
   "id": "485f963e-dfb2-4bf9-8ca5-0b7513ef4ae2",
   "metadata": {},
   "source": [
    "## ss\n",
    "* Displays **socket statistics**, similar to `netstat` but faster and more powerful.\n",
    "* Can show TCP, UDP, raw, and UNIX sockets.\n",
    "* Common flags:\n",
    "  - `-t` : show TCP sockets\n",
    "  - `-u` : show UDP sockets\n",
    "  - `-l` : show listening sockets\n",
    "  - `-p` : show process using socket\n",
    "  - `-a` : show all sockets\n",
    "* Example:\n",
    "    * ss                     # display all sockets\n",
    "    * ss -t                  # show TCP connections\n",
    "    * ss -u                  # show UDP connections\n",
    "    * ss -tulnp              # show listening TCP/UDP sockets with PID\n",
    "    * ss -a                  # show all sockets including non-listening"
   ]
  },
  {
   "cell_type": "markdown",
   "id": "32d13be6-5abe-4bc9-81cc-9c03992b43d1",
   "metadata": {},
   "source": [
    "## arp\n",
    "* Displays or modifies the **ARP (Address Resolution Protocol) cache**, which maps **IP addresses to MAC addresses** on the local network.\n",
    "* Common flags:\n",
    "  - `-a` : display all entries in ARP table\n",
    "  - `-d` : delete an entry\n",
    "  - `-s` : manually add a static entry\n",
    "* Example:\n",
    "    * arp -a                         # show all ARP entries\n",
    "    * sudo arp -d 192.168.1.10       # delete ARP entry for specific IP\n",
    "    * sudo arp -s 192.168.1.20 00:11:22:33:44:55  # add static mapping"
   ]
  },
  {
   "cell_type": "markdown",
   "id": "e00a2b8a-e042-4f69-a4c0-7563415db04f",
   "metadata": {},
   "source": [
    "## dig\n",
    "* Queries DNS servers for information about **domains, IPs, and DNS records**.\n",
    "* More advanced than `nslookup`, widely used by network admins.\n",
    "* Common flags:\n",
    "  - `@server` : specify a DNS server to query\n",
    "  - `+short` : show concise output\n",
    "  - `-t` : specify record type (A, MX, NS, TXT, etc.)\n",
    "* Example:\n",
    "    * dig google.com                  # query A record of google.com\n",
    "    * dig @8.8.8.8 google.com         # query using specific DNS server\n",
    "    * dig google.com MX               # check mail servers\n",
    "    * dig google.com +short           # concise output\n"
   ]
  },
  {
   "cell_type": "markdown",
   "id": "f2f52ad9-9ef1-4250-9bbf-bb7573602335",
   "metadata": {},
   "source": [
    "## route\n",
    "* Displays or modifies the **IP routing table** of the system.\n",
    "* Shows how network traffic is routed to different networks or gateways.\n",
    "* Common flags / usage:\n",
    "  - `-n` : show numeric IP addresses instead of resolving hostnames\n",
    "  - `add` : add a new route\n",
    "  - `del` : delete a route\n",
    "* Example:\n",
    "    * route                         # show routing table\n",
    "    * route -n                      # show numeric routing table\n",
    "    * sudo route add default gw 192.168.1.1    # add default gateway\n",
    "    * sudo route del default gw 192.168.1.1    # delete default gateway"
   ]
  },
  {
   "cell_type": "markdown",
   "id": "b4b44499-72a5-45a7-8c4d-8680cfaec9c2",
   "metadata": {},
   "source": [
    "## nmap\n",
    "* Network exploration and **security auditing tool**.  \n",
    "* Can scan hosts, open ports, services, and detect operating systems.\n",
    "* Common flags:\n",
    "  - `-sP` : ping scan (check which hosts are up)\n",
    "  - `-sT` : TCP connect scan\n",
    "  - `-sU` : UDP scan\n",
    "  - `-p` : specify port(s) to scan\n",
    "  - `-O` : detect operating system\n",
    "* Example:\n",
    "    * nmap 192.168.1.1               # basic scan of host\n",
    "    * nmap -p 22,80 192.168.1.1      # scan specific ports\n",
    "    * nmap -sP 192.168.1.0/24        # ping scan to find live hosts\n",
    "    * nmap -O 192.168.1.1             # detect OS of host"
   ]
  },
  {
   "cell_type": "markdown",
   "id": "deca5c80-f41e-4323-8620-e2f8e1b9f031",
   "metadata": {},
   "source": [
    "## wget\n",
    "* Command-line tool to **download files from the web** using HTTP, HTTPS, or FTP.\n",
    "* Common flags:\n",
    "  - `-O` : specify output filename\n",
    "  - `-c` : continue an incomplete download\n",
    "  - `-r` : recursive download (for directories)\n",
    "  - `-q` : quiet mode\n",
    "  - `--limit-rate` : limit download speed\n",
    "* Example:\n",
    "    * wget http://example.com/file.zip           # download file to current directory\n",
    "    * wget -O newfile.zip http://example.com/file.zip  # download and save as newfile.zip\n",
    "    * wget -c http://example.com/file.zip       # resume interrupted download\n",
    "    * wget -r http://example.com/folder/        # download directory recursively\n",
    "    * wget --limit-rate=200k http://example.com/file.zip  # limit download speed"
   ]
  },
  {
   "cell_type": "markdown",
   "id": "5759e9da-0d79-4742-95ba-14efa00aa541",
   "metadata": {},
   "source": [
    "## watch\n",
    "* Runs a command **repeatedly at regular intervals** and shows the output in real-time.\n",
    "* Useful for **monitoring changes** in files, processes, or system stats.\n",
    "* Common flags:\n",
    "  - `-n` : specify interval in seconds (default is 2 seconds)\n",
    "  - `-d` : highlight differences between successive outputs\n",
    "* Example:\n",
    "    * watch ls -l                     # run 'ls -l' every 2 seconds\n",
    "    * watch -n 5 df -h                # run 'df -h' every 5 seconds\n",
    "    * watch -d cat /proc/meminfo      # highlight changes in memory info"
   ]
  },
  {
   "cell_type": "markdown",
   "id": "d5dd9b78-53cc-48d2-80dd-9d36268ad574",
   "metadata": {},
   "source": [
    "## iptables\n",
    "* Command-line tool to **configure Linux kernel firewall** (packet filtering rules).\n",
    "* Controls **incoming, outgoing, and forwarded network traffic**.\n",
    "* Common tables:\n",
    "  - `filter` : default table for packet filtering\n",
    "  - `nat` : network address translation rules\n",
    "  - `mangle` : specialized packet alteration\n",
    "* Common flags:\n",
    "  - `-A` : append a rule\n",
    "  - `-I` : insert a rule\n",
    "  - `-D` : delete a rule\n",
    "  - `-L` : list rules\n",
    "  - `-p` : specify protocol (tcp/udp/icmp)\n",
    "  - `--dport` : specify destination port\n",
    "  - `-s` / `-d` : source/destination IP\n",
    "* Example:\n",
    "    * sudo iptables -L                       # list all firewall rules\n",
    "    * sudo iptables -A INPUT -p tcp --dport 22 -j ACCEPT    # allow SSH\n",
    "    * sudo iptables -A INPUT -p tcp --dport 80 -j DROP      # block HTTP\n",
    "    * sudo iptables -D INPUT 2                 # delete 2nd rule in INPUT chain"
   ]
  },
  {
   "cell_type": "markdown",
   "id": "9cca0ac0-9de2-4380-812c-3d5fa9577aeb",
   "metadata": {},
   "source": [
    "## curl\n",
    "* Command-line tool to **transfer data to or from a server** using various protocols (HTTP, HTTPS, FTP, etc.).\n",
    "* Common flags:\n",
    "  - `-O` : save output to a file with remote filename\n",
    "  - `-o` : save output to a specified filename\n",
    "  - `-I` : fetch only HTTP headers\n",
    "  - `-L` : follow redirects\n",
    "  - `-u` : provide username and password\n",
    "  - `-d` : send POST data\n",
    "* Example:\n",
    "    * curl http://example.com                     # display content in terminal\n",
    "    * curl -O http://example.com/file.zip         # download file with original name\n",
    "    * curl -o newfile.zip http://example.com/file.zip  # download file with custom name\n",
    "    * curl -I http://example.com                  # fetch only headers\n",
    "    * curl -L http://example.com                  # follow redirects\n",
    "    * curl -d \"username=user&password=123\" http://example.com/login  # send POST request"
   ]
  },
  {
   "cell_type": "markdown",
   "id": "f1737703-ac99-43af-a6b5-2ee4a1f04f45",
   "metadata": {},
   "source": [
    "# awk\n",
    "* `awk` is a **powerful text processing and pattern scanning tool** in Linux.\n",
    "* It reads input **line by line**, splits each line into **fields**, and performs **actions based on patterns**.\n",
    "* Useful for **report generation, extracting columns, and performing calculations**.\n",
    "\n",
    "* Common usage:\n",
    "    *  awk 'pattern {action}' filename\n"
   ]
  },
  {
   "cell_type": "markdown",
   "id": "4cb2d328-3add-45a3-9599-8fd49cc6aa5b",
   "metadata": {},
   "source": [
    "##### Print entire file\n",
    "awk '{print}' file.txt\n",
    "\n",
    "##### Print first column\n",
    "awk '{print $1}' file.txt\n",
    "\n",
    "##### Print specific column with custom separator\n",
    "awk -F \",\" '{print $2}' data.csv\n",
    "\n",
    "##### Sum values in 3rd column\n",
    "awk '{sum += $3} END {print sum}' file.txt\n",
    "\n",
    "##### Print lines containing \"error\"\n",
    "awk '/error/ {print $0}' logfile.txt\n",
    "\n",
    "##### Using variables\n",
    "awk -v threshold=50 '$3 > threshold {print $1, $3}' file.txt\n"
   ]
  },
  {
   "cell_type": "markdown",
   "id": "6307744e-afa8-4e0b-ae73-78d99c26942a",
   "metadata": {},
   "source": [
    "# sed\n",
    "* `sed` (Stream Editor) is a **command-line tool for text manipulation**.\n",
    "* It reads input **line by line**, performs **editing operations**, and outputs the result.\n",
    "* Common uses: **substitute text, delete lines, insert/append text, and pattern matching**.\n",
    "\n",
    "* Common flags:\n",
    "  - `-i` : edit file **in-place** (changes saved to file)\n",
    "  - `-n` : suppress automatic printing (used with `p` to print specific lines)\n",
    "  - `s` : substitution command\n",
    "  - `g` : global replacement on a line\n",
    "\n",
    "* Example:\n",
    "```bash\n",
    "# Print file content\n",
    "sed '' file.txt\n",
    "\n",
    "# Replace first occurrence of 'apple' with 'orange' in each line\n",
    "sed 's/apple/orange/' file.txt\n",
    "\n",
    "# Replace all occurrences of 'apple' with 'orange' in each line\n",
    "sed 's/apple/orange/g' file.txt\n",
    "\n",
    "# Delete 2nd line of a file\n",
    "sed '2d' file.txt\n",
    "\n",
    "# Print lines containing 'error'\n",
    "sed -n '/error/p' logfile.txt\n",
    "\n",
    "# In-place replacement\n",
    "sed -i 's/old/new/g' file.txt\n",
    "\n",
    "# Insert a line before line 2\n",
    "sed '2i This is a new line' file.txt\n",
    "\n",
    "# Append a line after line 3\n",
    "sed '3a This line is appended' file.txt\n"
   ]
  },
  {
   "cell_type": "markdown",
   "id": "cf0ba5e7-3461-4e43-9d53-1cd8d31a1149",
   "metadata": {},
   "source": [
    "## Difference between sed and awk\n",
    "\n",
    "| Feature             | sed                                        | awk                                         |\n",
    "|--------------------|--------------------------------------------|--------------------------------------------|\n",
    "| Full Form          | Stream Editor                              | Not an acronym, named after authors: Aho, Weinberger, Kernighan |\n",
    "| Primary Purpose    | **Text substitution, insertion, deletion** in a stream | **Text processing and reporting**, can perform calculations and column-wise operations |\n",
    "| Input Processing   | Processes text **line by line**            | Processes text **line by line**, splits into **fields/columns** |\n",
    "| Output             | Outputs **modified text stream**           | Can **format output**, do calculations, and generate reports |\n",
    "| Pattern Matching   | Uses **regex for finding patterns**        | Uses **patterns and conditions** for filtering lines |\n",
    "| Complexity         | Simple editing (substitute, delete, insert) | More powerful, can perform arithmetic, string operations, conditional logic |\n",
    "| Use Cases          | Replacing text, deleting lines, in-place edits | Parsing logs, extracting columns, summarizing data, complex reports |\n",
    "| Syntax Example     | `sed 's/old/new/g' file.txt`               | `awk '{print $1, $3}' file.txt`           |\n",
    "\n",
    "*Notes:*\n",
    "- Use **sed** when you want to **edit text quickly** or make **simple substitutions**.  \n",
    "- Use **awk** when you want to **process structured text**, perform **calculations**, or **extract specific fields** from data.  \n"
   ]
  },
  {
   "cell_type": "markdown",
   "id": "3514ed98-c737-42a0-8e77-6e9c860d7f71",
   "metadata": {},
   "source": [
    "# Linux Volume\n",
    "\n",
    "* In Linux, a **volume** is a **logical storage unit** that the operating system can use to store data.\n",
    "* It is usually created from one or more **physical storage devices** (like HDD, SSD) and can be **formatted with a filesystem** (ext4, xfs, etc.).\n",
    "* Linux uses **Logical Volume Management (LVM)** to manage volumes flexibly.\n",
    "\n",
    "### Key Points:\n",
    "1. **Physical Volume (PV)**  \n",
    "   - Actual storage device or partition (e.g., `/dev/sda1`)  \n",
    "   - Example: `sudo pvcreate /dev/sdb1`\n",
    "\n",
    "2. **Volume Group (VG)**  \n",
    "   - Collection of one or more physical volumes.  \n",
    "   - Acts as a **pool of storage** from which logical volumes are created.  \n",
    "   - Example: `sudo vgcreate vg_data /dev/sdb1 /dev/sdc1`\n",
    "\n",
    "3. **Logical Volume (LV)**  \n",
    "   - A **partition created from a volume group**.  \n",
    "   - Acts like a **virtual disk** that can be formatted and mounted.  \n",
    "   - Example: `sudo lvcreate -L 50G -n lv_storage vg_data`\n",
    "\n",
    "### Commands:\n",
    "```bash\n",
    "# List physical volumes\n",
    "sudo pvdisplay\n",
    "\n",
    "# List volume groups\n",
    "sudo vgdisplay\n",
    "\n",
    "# List logical volumes\n",
    "sudo lvdisplay\n",
    "\n",
    "# Create filesystem on a logical volume\n",
    "sudo mkfs.ext4 /dev/vg_data/lv_storage\n",
    "\n",
    "# Mount logical volume\n",
    "sudo mount /dev/vg_data/lv_storage /mnt/storage\n"
   ]
  },
  {
   "cell_type": "markdown",
   "id": "b8efb80b-8726-4e4b-87e1-c1c2d97d87e4",
   "metadata": {},
   "source": [
    "# Physical Volume (PV) - Detailed Explanation\n",
    "\n",
    "* A **Physical Volume (PV)** is the **lowest level of storage in Linux LVM (Logical Volume Management)**.\n",
    "* It represents a **physical hard disk, SSD, or partition** that LVM can manage.\n",
    "* PVs are **initialized and labeled** for LVM, so they can be grouped into **Volume Groups (VGs)**.\n",
    "\n",
    "### Key Concepts:\n",
    "\n",
    "1. **Structure**:\n",
    "   - PVs contain a **metadata area** that stores information about the LVM structure.\n",
    "   - After initialization, the PV can be allocated to one or more **Logical Volumes (LVs)** via a **Volume Group**.\n",
    "\n",
    "2. **Advantages**:\n",
    "   - Allows **flexible allocation of storage**.\n",
    "   - Multiple PVs can be **combined into a single VG**, making it easier to manage large storage.\n",
    "   - Supports **dynamic resizing** of LVs as storage grows.\n",
    "\n",
    "3. **Initialization**:\n",
    "   - Before using a disk/partition as a PV, it must be initialized:\n",
    "     ```bash\n",
    "     sudo pvcreate /dev/sdb1\n",
    "     ```\n",
    "   - This writes **LVM metadata** on the partition.\n",
    "\n",
    "4. **Viewing PVs**:\n",
    "   ```bash\n",
    "   sudo pvdisplay             # detailed info\n",
    "   sudo pvs                   # brief summary\n"
   ]
  },
  {
   "cell_type": "markdown",
   "id": "dafaad93-1dbd-4690-9aae-648fdf51fff1",
   "metadata": {},
   "source": [
    "# Logical Volume (LV) - Detailed Explanation\n",
    "\n",
    "* A **Logical Volume (LV)** is a **virtual storage unit** in Linux **Logical Volume Management (LVM)**.\n",
    "* It is created from the **free space in a Volume Group (VG)**, which itself consists of one or more **Physical Volumes (PVs)**.\n",
    "\n",
    "### Key Features:\n",
    "\n",
    "1. **Virtual Partition**:\n",
    "   - Unlike regular disk partitions, LV is **not tied to a specific physical disk**.\n",
    "   - This makes it **flexible**, as storage can span multiple PVs in a VG.\n",
    "\n",
    "2. **Flexible Storage Management**:\n",
    "   - **Resize LVs dynamically** (increase or decrease size) without affecting other LVs.\n",
    "   - **Add new PVs** to a VG and extend LVs easily.\n",
    "   - Supports **snapshots** to create a backup copy at a specific point in time.\n",
    "\n",
    "3. **Filesystem Integration**:\n",
    "   - Once an LV is created, it can be **formatted with any filesystem** (ext4, xfs, etc.) and mounted like a regular disk.\n",
    "   - Example:\n",
    "```bash\n",
    "sudo mkfs.ext4 /dev/vg_data/lv_storage   # format LV\n",
    "sudo mount /dev/vg_data/lv_storage /mnt/storage  # mount LV\n"
   ]
  },
  {
   "cell_type": "markdown",
   "id": "369dd792-ed48-47e3-989f-426d389e1d1f",
   "metadata": {},
   "source": [
    "##### Create a 50GB LV named lv_storage in VG named vg_data\n",
    "\n",
    "sudo lvcreate -L 50G -n lv_storage vg_data\n",
    "\n",
    "##### Viewing Logical Volumes:\n",
    "\n",
    "sudo lvdisplay            # detailed view of LVs\n",
    "sudo lvs                  # brief summary of LVs\n",
    "\n",
    "##### Resizing Logical Volumes:\n",
    "\n",
    "##### Extend LV by 20GB\n",
    "sudo lvextend -L +20G /dev/vg_data/lv_storage\n",
    "##### Reduce LV by 10GB (careful: may cause data loss if not resized properly)\n",
    "sudo lvreduce -L -10G /dev/vg_data/lv_storage"
   ]
  },
  {
   "cell_type": "markdown",
   "id": "d02ffdb9-7ead-4e33-a418-bd55fd212eb1",
   "metadata": {},
   "source": [
    "# what is LVM (Logical Volume Management)\n",
    "\n",
    "### LVM (Logical Volume Management)\n",
    "\n",
    "* **LVM** is a **Linux storage management system** that allows **flexible allocation, resizing, and management of disk storage**.\n",
    "* It sits **between the physical storage devices and the filesystem**, providing a **layer of abstraction**.\n",
    "\n",
    "### Key Components:\n",
    "\n",
    "1. **Physical Volume (PV)**  \n",
    "   - Actual hard disks or partitions used by LVM.  \n",
    "   - Example: `/dev/sdb1`, `/dev/sdc1`.\n",
    "\n",
    "2. **Volume Group (VG)**  \n",
    "   - A pool of storage created by combining one or more PVs.  \n",
    "   - Example: `vg_data` containing `/dev/sdb1` and `/dev/sdc1`.\n",
    "\n",
    "3. **Logical Volume (LV)**  \n",
    "   - Virtual partitions created from a VG.  \n",
    "   - Can be formatted, mounted, and resized dynamically.  \n",
    "   - Example: `/dev/vg_data/lv_storage`.\n",
    "\n",
    "### Advantages of LVM:\n",
    "\n",
    "1. **Flexible Storage**  \n",
    "   - Resize volumes without repartitioning the disk.\n",
    "   - Add or remove physical disks to a volume group.\n",
    "\n",
    "2. **Snapshots**  \n",
    "   - Take point-in-time copies of LVs for backup or testing.\n",
    "\n",
    "3. **Efficient Use of Space**  \n",
    "   - Allocate only what you need, expand later if necessary.\n",
    "\n",
    "4. **Simplifies Storage Management**  \n",
    "   - Combines multiple disks into one logical pool.\n",
    "\n",
    "### Commands:\n",
    "\n",
    "```bash\n",
    "# Create a Physical Volume\n",
    "sudo pvcreate /dev/sdb1\n",
    "\n",
    "# Create a Volume Group\n",
    "sudo vgcreate vg_data /dev/sdb1 /dev/sdc1\n",
    "\n",
    "# Create a Logical Volume\n",
    "sudo lvcreate -L 50G -n lv_storage vg_data\n",
    "\n",
    "# Format Logical Volume\n",
    "sudo mkfs.ext4 /dev/vg_data/lv_storage\n",
    "\n",
    "# Mount Logical Volume\n",
    "sudo mount /dev/vg_data/lv_storage /mnt/storage\n"
   ]
  },
  {
   "cell_type": "markdown",
   "id": "a5241082-e41b-4eca-950e-ade489b1c90d",
   "metadata": {},
   "source": [
    "# Difference: Linux Volume, Physical Volume (PV), and Logical Volume (LV)\n",
    "\n",
    "| Feature                     | Linux Volume                            | Physical Volume (PV)                       | Logical Volume (LV)                         |\n",
    "|-------------------------------|----------------------------------------|-------------------------------------------|---------------------------------------------|\n",
    "| Definition                   | General term for a **storage unit** used by Linux | Actual **disk or partition** used in LVM   | **Virtual storage partition** created from Volume Group |\n",
    "| Level                        | High-level concept                      | Lowest level in LVM                        | Middle level in LVM                          |\n",
    "| Mountable                    | Yes, if formatted                        | No, must be part of VG                      | Yes, after formatting                        |\n",
    "| Creation                     | Partitioned or disk space                | Created using `pvcreate`                   | Created using `lvcreate`                     |\n",
    "| Flexibility                  | Limited (static partitions)              | Provides storage for VG                     | Highly flexible (resize, move, snapshot)    |\n",
    "| Example                      | /dev/sda1, /dev/sdb2                     | /dev/sdb1, /dev/sdc1                        | /dev/vg_data/lv_storage                       |\n",
    "| Usage                        | Used by OS to store data                 | Building block for Volume Group            | Acts like a normal disk, can be mounted, formatted, resized |\n",
    "\n",
    "*Notes:*\n",
    "- **Linux Volume**: Broad term for any storage used by Linux.  \n",
    "- **Physical Volume (PV)**: Raw storage initialized for LVM; cannot be directly used.  \n",
    "- **Logical Volume (LV)**: Virtual partition created from VG; can be formatted and mounted.  \n",
    "- Together, PV → VG → LV forms the **LVM hierarchy** for flexible storage management.\n"
   ]
  },
  {
   "cell_type": "markdown",
   "id": "45711373-2058-44cc-b9bd-6f1d3df93b78",
   "metadata": {},
   "source": [
    "# Common Linux Interview Questions\n",
    "\n",
    "### 1. What is the difference between Linux and Unix?\n",
    "* Linux is **open-source**, while Unix is **proprietary**.\n",
    "* Linux can run on multiple platforms; Unix is mostly for servers and workstations.\n",
    "* Linux has multiple distributions (Ubuntu, CentOS); Unix has versions like AIX, Solaris.\n",
    "\n",
    "### 2. What is a Kernel in Linux?\n",
    "* Kernel is the **core of the operating system**.\n",
    "* Manages **hardware resources**, **memory**, **processes**, and **device drivers**.\n",
    "\n",
    "### 3. What is the difference between a process and a thread?\n",
    "* **Process**: Independent execution unit with its own memory.  \n",
    "* **Thread**: Lightweight process sharing memory with other threads in the same process.\n",
    "\n",
    "### 4. How do you check memory usage in Linux?\n",
    "* Commands: `free -h`, `top`, `vmstat`, `htop`\n",
    "\n",
    "### 5. How do you check disk usage?\n",
    "* Commands: `df -h`, `du -h`, `lsblk`\n",
    "\n",
    "### 6. What are inodes?\n",
    "* **Inode** stores metadata about a file (permissions, owner, size, timestamps) but not the file name.\n",
    "\n",
    "### 7. How do you check running processes?\n",
    "* Commands: `ps`, `top`, `htop`, `pgrep`\n",
    "\n",
    "### 8. What is a swap space?\n",
    "* Swap space is **virtual memory on disk** used when RAM is full.\n",
    "\n",
    "### 9. What is a symbolic link and hard link?\n",
    "* **Symbolic link (soft link)**: Shortcut to a file; can cross filesystems.  \n",
    "* **Hard link**: Another name for the same file; shares same inode; cannot cross filesystems.\n",
    "\n",
    "### 10. How do you manage users and groups?\n",
    "* Commands: `useradd`, `usermod`, `userdel`, `groupadd`, `groupdel`, `passwd`, `id`, `groups`\n",
    "\n",
    "### 11. How do you change file permissions and ownership?\n",
    "* Commands: `chmod`, `chown`, `chgrp`, `umask`\n",
    "\n",
    "### 12. What is the difference between `su` and `sudo`?\n",
    "* `su` switches user account, requires target user password.  \n",
    "* `sudo` runs commands as root or another user, requires **current user password**.\n",
    "\n",
    "### 13. How do you check network configuration?\n",
    "* Commands: `ifconfig`, `ip addr`, `netstat`, `ss`, `ping`, `traceroute`, `mtr`, `nslookup`, `dig`\n",
    "\n",
    "### 14. How do you manage packages in Linux?\n",
    "* Debian-based: `apt`, `dpkg`  \n",
    "* RedHat-based: `yum`, `dnf`, `rpm`\n",
    "\n",
    "### 15. What is a shell and types of shells?\n",
    "* Shell is a **command interpreter**.  \n",
    "* Common shells: `bash`, `sh`, `zsh`, `ksh`, `csh`\n",
    "\n",
    "### 16. How do you schedule tasks?\n",
    "* Commands: `cron`, `crontab`, `at`, `systemd timers`\n",
    "\n",
    "### 17. How do you monitor system performance?\n",
    "* Commands: `top`, `htop`, `vmstat`, `iostat`, `free`, `uptime`, `sar`\n",
    "\n",
    "### 18. How do you search files and text?\n",
    "* Commands: `find`, `locate`, `grep`, `awk`, `sed`\n",
    "\n",
    "### 19. How do you compress and archive files?\n",
    "* Commands: `tar`, `gzip`, `gunzip`, `zip`, `unzip`\n",
    "\n",
    "### 20. How do you view logs?\n",
    "* Commands: `less`, `more`, `tail -f`, `journalctl`\n"
   ]
  },
  {
   "cell_type": "markdown",
   "id": "ef628d5e-7290-4b11-bb59-78abd61fc236",
   "metadata": {},
   "source": [
    "### 21. What are runlevels in Linux?\n",
    "* Runlevels define **modes of operation** for the system.\n",
    "* Common runlevels (SysVinit):\n",
    "  - 0: Halt\n",
    "  - 1: Single-user mode\n",
    "  - 3: Multi-user mode (text)\n",
    "  - 5: Multi-user mode (graphical)\n",
    "  - 6: Reboot\n",
    "* Modern Linux uses **systemd targets** instead of runlevels.\n",
    "\n",
    "### 22. What is a daemon in Linux?\n",
    "* A **daemon** is a background process running **without user interaction**.\n",
    "* Examples: `sshd`, `cron`, `httpd`\n",
    "\n",
    "### 23. What is the difference between hard link and soft link?\n",
    "* Hard link shares the **same inode** as the original file.\n",
    "* Soft link (symbolic link) is a **pointer to the file path**.\n",
    "\n",
    "### 24. What is the difference between `cron` and `at`?\n",
    "* `cron`: schedule **repeating tasks**.\n",
    "* `at`: schedule **one-time task**.\n",
    "\n",
    "### 25. How do you check listening ports?\n",
    "* Commands: `netstat -tulnp`, `ss -tulnp`, `lsof -i`\n",
    "\n",
    "### 26. How do you check system logs?\n",
    "* Files in `/var/log/` like `syslog`, `messages`, `auth.log`\n",
    "* Commands: `tail -f /var/log/syslog`, `journalctl -xe`\n",
    "\n",
    "### 27. How do you check disk partitions?\n",
    "* Commands: `fdisk -l`, `lsblk`, `parted -l`\n",
    "\n",
    "### 28. What is the difference between process and thread?\n",
    "* Process: Independent execution unit with own memory.\n",
    "* Thread: Shares memory with other threads in the same process.\n",
    "\n",
    "### 29. How do you kill a process?\n",
    "* Commands: `kill PID`, `kill -9 PID`, `pkill process_name`, `killall process_name`\n",
    "\n",
    "### 30. What are signals in Linux?\n",
    "* Signals are **messages sent to processes** to notify them or control their behavior.\n",
    "* Common signals:  \n",
    "  - `SIGKILL (9)` : force kill  \n",
    "  - `SIGTERM (15)` : graceful termination  \n",
    "  - `SIGHUP (1)` : reload configuration\n",
    "\n",
    "### 31. What is the difference between `soft` and `hard` mount in NFS?\n",
    "* Hard mount: retries forever if server unavailable.\n",
    "* Soft mount: returns error if server unavailable.\n",
    "\n",
    "### 32. What is a symbolic link vs junction vs mount point?\n",
    "* Symbolic link: pointer to a file/directory path.\n",
    "* Mount point: directory where a filesystem is attached.\n",
    "* Junction (Windows concept, rarely in Linux): similar to symlink for directories.\n",
    "\n",
    "### 33. How do you check environment variables?\n",
    "* Commands: `env`, `printenv`, `echo $VAR_NAME`\n",
    "\n",
    "### 34. How do you check disk I/O performance?\n",
    "* Commands: `iostat`, `iotop`, `vmstat`, `dd` test\n",
    "\n",
    "### 35. How do you schedule jobs in background?\n",
    "* Commands: `nohup command &`, `disown`, `bg`, `jobs`\n",
    "\n",
    "### 36. How do you monitor network traffic?\n",
    "* Commands: `iftop`, `nload`, `tcpdump`, `wireshark`\n",
    "\n",
    "### 37. How do you handle file permissions and ownership?\n",
    "* Commands: `chmod`, `chown`, `chgrp`, `umask`, `ls -l`\n",
    "\n",
    "### 38. How do you find large files?\n",
    "* Commands: `find / -type f -size +100M`, `du -h --max-depth=1`\n",
    "\n",
    "### 39. How do you check Linux version?\n",
    "* Commands: `uname -a`, `cat /etc/os-release`, `lsb_release -a`\n",
    "\n",
    "### 40. How do you check running services?\n",
    "* Commands: `systemctl status`, `service --status-all`, `ps -ef | grep service_name`\n"
   ]
  },
  {
   "cell_type": "markdown",
   "id": "566e70a6-4208-410d-9da7-ef3e7ef7fd79",
   "metadata": {},
   "source": [
    "\n",
    "### 41. What is the difference between `fork()` and `exec()`?\n",
    "* `fork()`: Creates a **new child process** (duplicate of parent).  \n",
    "* `exec()`: **Replaces the current process image** with a new program.\n",
    "\n",
    "### 42. What is a kernel module?\n",
    "* Kernel module is a **piece of code** that can be **loaded/unloaded into kernel** to add functionality (like device drivers).  \n",
    "* Commands: `lsmod`, `insmod`, `rmmod`, `modprobe`\n",
    "\n",
    "### 43. What is the difference between soft link and hard link?\n",
    "* Hard link shares the **same inode**; cannot cross filesystem.  \n",
    "* Soft link (symbolic) points to **file path**; can cross filesystems.\n",
    "\n",
    "### 44. How do you monitor CPU usage?\n",
    "* Commands: `top`, `htop`, `vmstat`, `mpstat`\n",
    "\n",
    "### 45. How do you check kernel version?\n",
    "* Command: `uname -r`\n",
    "\n",
    "### 46. What are file descriptors?\n",
    "* File descriptor is a **number representing an open file, socket, or pipe**.  \n",
    "* Standard FDs:\n",
    "  - 0 : stdin\n",
    "  - 1 : stdout\n",
    "  - 2 : stderr\n",
    "\n",
    "### 47. How do you check system uptime?\n",
    "* Commands: `uptime`, `cat /proc/uptime`\n",
    "\n",
    "### 48. How do you redirect output and error streams?\n",
    "* `>` : redirect stdout  \n",
    "* `2>` : redirect stderr  \n",
    "* `&>` : redirect both stdout and stderr\n",
    "\n",
    "### 49. How do you count words, lines, and characters in a file?\n",
    "* Command: `wc filename`  \n",
    "* Flags: `-l` (lines), `-w` (words), `-c` (characters)\n",
    "\n",
    "### 50. How do you find text inside files?\n",
    "* Commands: `grep \"text\" filename`, `egrep`, `fgrep`  \n",
    "* Flags: `-i` (ignore case), `-r` (recursive), `-n` (show line number)\n",
    "\n",
    "### 51. How do you compare files?\n",
    "* Commands: `diff file1 file2`, `cmp file1 file2`, `comm file1 file2`\n",
    "\n",
    "### 52. How do you check open files by a process?\n",
    "* Commands: `lsof`, `fuser filename`\n",
    "\n",
    "### 53. How do you view command history?\n",
    "* Commands: `history`, `!n` to repeat nth command\n",
    "\n",
    "### 54. What are runlevels and systemd targets?\n",
    "* Runlevels: define **state of system** (0-6)  \n",
    "* systemd targets: modern equivalent (e.g., `graphical.target`, `multi-user.target`)\n",
    "\n",
    "### 55. How do you schedule recurring tasks?\n",
    "* Command: `crontab -e`  \n",
    "* Format: `minute hour day month weekday command`\n",
    "\n",
    "### 56. How do you monitor disk and filesystem usage?\n",
    "* Commands: `df -h`, `du -sh /path`, `lsblk`, `mount`\n"
   ]
  }
 ],
 "metadata": {
  "kernelspec": {
   "display_name": "Python 3 (ipykernel)",
   "language": "python",
   "name": "python3"
  },
  "language_info": {
   "codemirror_mode": {
    "name": "ipython",
    "version": 3
   },
   "file_extension": ".py",
   "mimetype": "text/x-python",
   "name": "python",
   "nbconvert_exporter": "python",
   "pygments_lexer": "ipython3",
   "version": "3.12.10"
  }
 },
 "nbformat": 4,
 "nbformat_minor": 5
}
